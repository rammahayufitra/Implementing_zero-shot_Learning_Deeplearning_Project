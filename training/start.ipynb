{
 "cells": [
  {
   "cell_type": "code",
   "execution_count": 6,
   "metadata": {},
   "outputs": [],
   "source": [
    "# !git clone https://github.com/sizhky/zero-shot-learning/"
   ]
  },
  {
   "cell_type": "code",
   "execution_count": 7,
   "metadata": {},
   "outputs": [],
   "source": [
    "!pip install -Uq torch_snippets"
   ]
  },
  {
   "cell_type": "code",
   "execution_count": 8,
   "metadata": {},
   "outputs": [
    {
     "name": "stdout",
     "output_type": "stream",
     "text": [
      "/home/delameta/ramma/NoteRM/Implementing_zero-shot_Learning_Deeplearning_Project/training/zero-shot-learning/src/zero-shot-learning/src\n"
     ]
    }
   ],
   "source": [
    "%cd zero-shot-learning/src"
   ]
  },
  {
   "cell_type": "code",
   "execution_count": 9,
   "metadata": {},
   "outputs": [
    {
     "name": "stdout",
     "output_type": "stream",
     "text": [
      "detect_object.py      train_classes.txt  zsl_classes.txt\n",
      "feature_extractor.py  train.py\n"
     ]
    }
   ],
   "source": [
    "%ls"
   ]
  },
  {
   "cell_type": "code",
   "execution_count": 10,
   "metadata": {},
   "outputs": [
    {
     "name": "stderr",
     "output_type": "stream",
     "text": [
      "/home/delameta/.local/lib/python3.8/site-packages/tqdm/auto.py:22: TqdmWarning: IProgress not found. Please update jupyter and ipywidgets. See https://ipywidgets.readthedocs.io/en/stable/user_install.html\n",
      "  from .autonotebook import tqdm as notebook_tqdm\n"
     ]
    }
   ],
   "source": [
    "import gzip, _pickle as cPickle \n",
    "from torch_snippets import * \n",
    "from sklearn.preprocessing import LabelEncoder, normalize \n",
    "device  = 'cuda' if torch.cuda.is_available() else 'cpu'\n"
   ]
  },
  {
   "cell_type": "code",
   "execution_count": 11,
   "metadata": {},
   "outputs": [
    {
     "data": {
      "text/html": [
       "<pre style=\"white-space:pre;overflow-x:auto;line-height:normal;font-family:Menlo,'DejaVu Sans Mono',consolas,'Courier New',monospace\"><span style=\"font-weight: bold\">[</span>\n",
       "    <span style=\"color: #008000; text-decoration-color: #008000\">'arm'</span>,\n",
       "    <span style=\"color: #008000; text-decoration-color: #008000\">'boy'</span>,\n",
       "    <span style=\"color: #008000; text-decoration-color: #008000\">'bread'</span>,\n",
       "    <span style=\"color: #008000; text-decoration-color: #008000\">'chicken'</span>,\n",
       "    <span style=\"color: #008000; text-decoration-color: #008000\">'child'</span>,\n",
       "    <span style=\"color: #008000; text-decoration-color: #008000\">'computer'</span>,\n",
       "    <span style=\"color: #008000; text-decoration-color: #008000\">'ear'</span>,\n",
       "    <span style=\"color: #008000; text-decoration-color: #008000\">'house'</span>,\n",
       "    <span style=\"color: #008000; text-decoration-color: #008000\">'leg'</span>,\n",
       "    <span style=\"color: #008000; text-decoration-color: #008000\">'sandwich'</span>,\n",
       "    <span style=\"color: #008000; text-decoration-color: #008000\">'television'</span>,\n",
       "    <span style=\"color: #008000; text-decoration-color: #008000\">'truck'</span>,\n",
       "    <span style=\"color: #008000; text-decoration-color: #008000\">'vehicle'</span>,\n",
       "    <span style=\"color: #008000; text-decoration-color: #008000\">'watch'</span>,\n",
       "    <span style=\"color: #008000; text-decoration-color: #008000\">'woman'</span>\n",
       "<span style=\"font-weight: bold\">]</span>\n",
       "</pre>\n"
      ],
      "text/plain": [
       "\u001b[1m[\u001b[0m\n",
       "    \u001b[32m'arm'\u001b[0m,\n",
       "    \u001b[32m'boy'\u001b[0m,\n",
       "    \u001b[32m'bread'\u001b[0m,\n",
       "    \u001b[32m'chicken'\u001b[0m,\n",
       "    \u001b[32m'child'\u001b[0m,\n",
       "    \u001b[32m'computer'\u001b[0m,\n",
       "    \u001b[32m'ear'\u001b[0m,\n",
       "    \u001b[32m'house'\u001b[0m,\n",
       "    \u001b[32m'leg'\u001b[0m,\n",
       "    \u001b[32m'sandwich'\u001b[0m,\n",
       "    \u001b[32m'television'\u001b[0m,\n",
       "    \u001b[32m'truck'\u001b[0m,\n",
       "    \u001b[32m'vehicle'\u001b[0m,\n",
       "    \u001b[32m'watch'\u001b[0m,\n",
       "    \u001b[32m'woman'\u001b[0m\n",
       "\u001b[1m]\u001b[0m\n"
      ]
     },
     "metadata": {},
     "output_type": "display_data"
    }
   ],
   "source": [
    "WORD2VECPATH = \"../data/class_vectors.npy\"\n",
    "DATAPATH = \"../data/zeroshot_data.pkl\"\n",
    "\n",
    "with open('train_classes.txt', 'r') as infile:\n",
    "    train_classes = [str.strip(line) for line in infile]\n",
    "    print(train_classes)"
   ]
  },
  {
   "cell_type": "code",
   "execution_count": 12,
   "metadata": {},
   "outputs": [],
   "source": [
    "with gzip.GzipFile(DATAPATH, 'rb') as infile:\n",
    "    data = cPickle.load(infile)"
   ]
  },
  {
   "cell_type": "code",
   "execution_count": 13,
   "metadata": {},
   "outputs": [],
   "source": [
    "training_data = [instance for instance in data if instance[0] in train_classes]\n",
    "zero_shot_data = [instance for instance in data if instance[0] not in train_classes]\n",
    "np.random.shuffle(training_data)"
   ]
  },
  {
   "cell_type": "code",
   "execution_count": 14,
   "metadata": {},
   "outputs": [],
   "source": [
    "train_size = 300 # per class\n",
    "train_data, valid_data = [], []\n",
    "for class_label in train_classes:\n",
    "    ctr = 0\n",
    "    for instance in training_data:\n",
    "        if instance[0] == class_label:\n",
    "            if ctr < train_size:\n",
    "                train_data.append(instance)\n",
    "                ctr+=1\n",
    "            else:\n",
    "                valid_data.append(instance)"
   ]
  },
  {
   "cell_type": "code",
   "execution_count": 15,
   "metadata": {},
   "outputs": [],
   "source": [
    "np.random.shuffle(train_data)\n",
    "np.random.shuffle(valid_data)\n",
    "vectors = {i:j for i,j in np.load(WORD2VECPATH, allow_pickle=True)}"
   ]
  },
  {
   "cell_type": "code",
   "execution_count": 20,
   "metadata": {},
   "outputs": [],
   "source": [
    "train_data=[(feat,vectors[clss]) for clss,feat in train_data]\n",
    "valid_data=[(feat,vectors[clss]) for clss,feat in valid_data]"
   ]
  },
  {
   "cell_type": "code",
   "execution_count": 21,
   "metadata": {},
   "outputs": [],
   "source": [
    "train_clss = [clss for clss, feat in train_data]\n",
    "valid_clss = [clss for clss, feat in valid_data]\n",
    "zero_shot_clss = [clss for clss, feat in zero_shot_data]\n"
   ]
  },
  {
   "cell_type": "code",
   "execution_count": 22,
   "metadata": {},
   "outputs": [],
   "source": [
    "x_train, y_train = zip(*train_data)\n",
    "x_train, y_train = np.squeeze(np.asarray(x_train)),np.squeeze(np.asarray(y_train))\n",
    "x_train = normalize(x_train, norm='l2')\n",
    "x_valid, y_valid = zip(*valid_data)\n",
    "x_valid, y_valid = np.squeeze(np.asarray(x_valid)),np.squeeze(np.asarray(y_valid))\n",
    "x_valid = normalize(x_valid, norm='l2')\n",
    "y_zsl, x_zsl = zip(*zero_shot_data)\n",
    "x_zsl, y_zsl = np.squeeze(np.asarray(x_zsl)),np.squeeze(np.asarray(y_zsl))\n",
    "x_zsl = normalize(x_zsl, norm='l2')"
   ]
  },
  {
   "cell_type": "code",
   "execution_count": 23,
   "metadata": {},
   "outputs": [],
   "source": [
    "from torch.utils.data import TensorDataset\n",
    "trn_ds = TensorDataset(*[torch.Tensor(t).to(device) for t in [x_train, y_train]])\n",
    "val_ds = TensorDataset(*[torch.Tensor(t).to(device) for t in [x_valid, y_valid]])\n",
    "trn_dl = DataLoader(trn_ds, batch_size=32, shuffle=True)\n",
    "val_dl = DataLoader(val_ds, batch_size=32, shuffle=False)"
   ]
  },
  {
   "cell_type": "code",
   "execution_count": 24,
   "metadata": {},
   "outputs": [],
   "source": [
    "def build_model():\n",
    "    return nn.Sequential(\n",
    "        nn.Linear(4096, 1024), nn.ReLU(inplace=True),\n",
    "        nn.BatchNorm1d(1024), nn.Dropout(0.8),\n",
    "        nn.Linear(1024, 512), nn.ReLU(inplace=True),\n",
    "        nn.BatchNorm1d(512), nn.Dropout(0.8),\n",
    "        nn.Linear(512, 256), nn.ReLU(inplace=True),\n",
    "        nn.BatchNorm1d(256), nn.Dropout(0.8),\n",
    "        nn.Linear(256, 300)\n",
    ")"
   ]
  },
  {
   "cell_type": "code",
   "execution_count": 25,
   "metadata": {},
   "outputs": [],
   "source": [
    "def train_batch(model, data, optimizer, criterion):\n",
    "    model.train()\n",
    "    ims, labels = data\n",
    "    _preds = model(ims)\n",
    "    optimizer.zero_grad()\n",
    "    loss = criterion(_preds, labels)\n",
    "    loss.backward()\n",
    "    optimizer.step()\n",
    "    return loss.item()\n",
    "\n",
    "@torch.no_grad()\n",
    "def validate_batch(model, data, criterion):\n",
    "    model.eval()\n",
    "    ims, labels = data\n",
    "    _preds = model(ims)\n",
    "    loss = criterion(_preds, labels)\n",
    "    return loss.item()"
   ]
  },
  {
   "cell_type": "code",
   "execution_count": 26,
   "metadata": {},
   "outputs": [
    {
     "name": "stdout",
     "output_type": "stream",
     "text": [
      "EPOCH: 10.000\ttrn_loss: 0.019\tval_loss: 0.015\t(11.68s - 58.42s remaining)\n",
      "EPOCH: 10.000\ttrn_loss: 0.019\tval_loss: 0.015\t(11.69s - 58.43s remaining)\n",
      "EPOCH: 10.000\ttrn_loss: 0.019\tval_loss: 0.015\t(11.69s - 58.44s remaining)\n",
      "EPOCH: 10.000\ttrn_loss: 0.019\tval_loss: 0.014\t(11.69s - 58.44s remaining)\n",
      "EPOCH: 10.000\ttrn_loss: 0.019\tval_loss: 0.014\t(11.69s - 58.45s remaining)\n",
      "EPOCH: 10.000\ttrn_loss: 0.019\tval_loss: 0.014\t(11.69s - 58.45s remaining)\n",
      "EPOCH: 10.000\ttrn_loss: 0.019\tval_loss: 0.014\t(11.69s - 58.46s remaining)\n",
      "EPOCH: 10.000\ttrn_loss: 0.019\tval_loss: 0.014\t(11.69s - 58.47s remaining)\n",
      "EPOCH: 10.000\ttrn_loss: 0.019\tval_loss: 0.014\t(11.69s - 58.47s remaining)\n",
      "EPOCH: 10.000\ttrn_loss: 0.019\tval_loss: 0.014\t(11.70s - 58.48s remaining)\n",
      "EPOCH: 10.000\ttrn_loss: 0.019\tval_loss: 0.014\t(11.70s - 58.48s remaining)\n",
      "EPOCH: 10.000\ttrn_loss: 0.019\tval_loss: 0.015\t(11.70s - 58.49s remaining)\n",
      "EPOCH: 10.000\ttrn_loss: 0.019\tval_loss: 0.015\t(11.70s - 58.50s remaining)\n",
      "EPOCH: 10.000\ttrn_loss: 0.019\tval_loss: 0.015\t(11.70s - 58.50s remaining)\n",
      "EPOCH: 10.000\ttrn_loss: 0.019\tval_loss: 0.015\t(11.70s - 58.51s remaining)\n",
      "EPOCH: 10.000\ttrn_loss: 0.019\tval_loss: 0.015\t(11.70s - 58.51s remaining)\n",
      "EPOCH: 10.000\ttrn_loss: 0.019\tval_loss: 0.015\t(11.70s - 58.52s remaining)\n",
      "EPOCH: 10.000\ttrn_loss: 0.019\tval_loss: 0.015\t(11.70s - 58.52s remaining)\n",
      "EPOCH: 10.000\ttrn_loss: 0.019\tval_loss: 0.015\t(11.71s - 58.53s remaining)\n",
      "EPOCH: 10.000\ttrn_loss: 0.019\tval_loss: 0.015\t(11.71s - 58.54s remaining)\n",
      "EPOCH: 10.000\ttrn_loss: 0.019\tval_loss: 0.015\t(11.71s - 58.55s remaining)\n",
      "EPOCH: 10.000\ttrn_loss: 0.019\tval_loss: 0.015\t(11.71s - 58.55s remaining)\n",
      "EPOCH: 10.000\ttrn_loss: 0.019\tval_loss: 0.015\t(11.71s - 58.56s remaining)\n",
      "EPOCH: 10.000\ttrn_loss: 0.019\tval_loss: 0.015\t(11.71s - 58.57s remaining)\n",
      "EPOCH: 10.000\ttrn_loss: 0.019\tval_loss: 0.015\t(11.71s - 58.57s remaining)\n",
      "EPOCH: 10.000\ttrn_loss: 0.019\tval_loss: 0.015\t(11.72s - 58.58s remaining)\n",
      "EPOCH: 10.000\ttrn_loss: 0.019\tval_loss: 0.015\t(11.72s - 58.58s remaining)\n",
      "EPOCH: 10.000\ttrn_loss: 0.019\tval_loss: 0.015\t(11.72s - 58.59s remaining)\n",
      "EPOCH: 10.000\ttrn_loss: 0.019\tval_loss: 0.015\t(11.72s - 58.60s remaining)\n",
      "EPOCH: 10.000\ttrn_loss: 0.019\tval_loss: 0.015\t(11.72s - 58.60s remaining)\n",
      "EPOCH: 10.000\ttrn_loss: 0.019\tval_loss: 0.015\t(11.72s - 58.61s remaining)\n",
      "EPOCH: 10.000\ttrn_loss: 0.019\tval_loss: 0.015\t(11.72s - 58.61s remaining)\n",
      "EPOCH: 10.000\ttrn_loss: 0.019\tval_loss: 0.015\t(11.72s - 58.62s remaining)\n",
      "EPOCH: 10.000\ttrn_loss: 0.019\tval_loss: 0.015\t(11.73s - 58.63s remaining)\n",
      "EPOCH: 10.000\ttrn_loss: 0.019\tval_loss: 0.015\t(11.73s - 58.63s remaining)\n",
      "EPOCH: 10.000\ttrn_loss: 0.019\tval_loss: 0.015\t(11.73s - 58.64s remaining)\n",
      "EPOCH: 10.000\ttrn_loss: 0.019\tval_loss: 0.015\t(11.73s - 58.64s remaining)\n",
      "EPOCH: 10.000\ttrn_loss: 0.019\tval_loss: 0.015\t(11.73s - 58.65s remaining)\n",
      "EPOCH: 10.000\ttrn_loss: 0.019\tval_loss: 0.015\t(11.73s - 58.66s remaining)\n",
      "EPOCH: 10.000\ttrn_loss: 0.019\tval_loss: 0.015\t(11.73s - 58.66s remaining)\n",
      "EPOCH: 10.000\ttrn_loss: 0.019\tval_loss: 0.014\t(11.73s - 58.67s remaining)\n",
      "EPOCH: 10.000\ttrn_loss: 0.019\tval_loss: 0.014\t(11.73s - 58.67s remaining)\n",
      "EPOCH: 10.000\ttrn_loss: 0.019\tval_loss: 0.014\t(11.74s - 58.68s remaining)\n",
      "EPOCH: 10.000\ttrn_loss: 0.019\tval_loss: 0.015\t(11.74s - 58.69s remaining)\n",
      "EPOCH: 10.000\ttrn_loss: 0.019\tval_loss: 0.015\t(11.74s - 58.69s remaining)\n",
      "EPOCH: 10.000\ttrn_loss: 0.019\tval_loss: 0.015\t(11.74s - 58.70s remaining)\n",
      "EPOCH: 10.000\ttrn_loss: 0.019\tval_loss: 0.015\t(11.74s - 58.70s remaining)\n",
      "EPOCH: 20.000\ttrn_loss: 0.019\tval_loss: 0.013\t(22.86s - 45.73s remaining)\n",
      "EPOCH: 20.000\ttrn_loss: 0.019\tval_loss: 0.013\t(22.87s - 45.73s remaining)\n",
      "EPOCH: 20.000\ttrn_loss: 0.019\tval_loss: 0.013\t(22.87s - 45.73s remaining)\n",
      "EPOCH: 20.000\ttrn_loss: 0.019\tval_loss: 0.013\t(22.87s - 45.74s remaining)\n",
      "EPOCH: 20.000\ttrn_loss: 0.019\tval_loss: 0.013\t(22.87s - 45.74s remaining)\n",
      "EPOCH: 20.000\ttrn_loss: 0.019\tval_loss: 0.013\t(22.87s - 45.74s remaining)\n",
      "EPOCH: 20.000\ttrn_loss: 0.019\tval_loss: 0.013\t(22.87s - 45.75s remaining)\n",
      "EPOCH: 20.000\ttrn_loss: 0.019\tval_loss: 0.013\t(22.87s - 45.75s remaining)\n",
      "EPOCH: 20.000\ttrn_loss: 0.019\tval_loss: 0.013\t(22.88s - 45.75s remaining)\n",
      "EPOCH: 20.000\ttrn_loss: 0.019\tval_loss: 0.013\t(22.88s - 45.75s remaining)\n",
      "EPOCH: 20.000\ttrn_loss: 0.019\tval_loss: 0.013\t(22.88s - 45.76s remaining)\n",
      "EPOCH: 20.000\ttrn_loss: 0.019\tval_loss: 0.013\t(22.88s - 45.76s remaining)\n",
      "EPOCH: 20.000\ttrn_loss: 0.019\tval_loss: 0.013\t(22.88s - 45.77s remaining)\n",
      "EPOCH: 20.000\ttrn_loss: 0.019\tval_loss: 0.013\t(22.88s - 45.77s remaining)\n",
      "EPOCH: 20.000\ttrn_loss: 0.019\tval_loss: 0.013\t(22.89s - 45.77s remaining)\n",
      "EPOCH: 20.000\ttrn_loss: 0.019\tval_loss: 0.013\t(22.89s - 45.77s remaining)\n",
      "EPOCH: 20.000\ttrn_loss: 0.019\tval_loss: 0.013\t(22.89s - 45.78s remaining)\n",
      "EPOCH: 20.000\ttrn_loss: 0.019\tval_loss: 0.013\t(22.89s - 45.78s remaining)\n",
      "EPOCH: 20.000\ttrn_loss: 0.019\tval_loss: 0.013\t(22.89s - 45.78s remaining)\n",
      "EPOCH: 20.000\ttrn_loss: 0.019\tval_loss: 0.013\t(22.89s - 45.79s remaining)\n",
      "EPOCH: 20.000\ttrn_loss: 0.019\tval_loss: 0.013\t(22.89s - 45.79s remaining)\n",
      "EPOCH: 20.000\ttrn_loss: 0.019\tval_loss: 0.013\t(22.90s - 45.79s remaining)\n",
      "EPOCH: 20.000\ttrn_loss: 0.019\tval_loss: 0.013\t(22.90s - 45.80s remaining)\n",
      "EPOCH: 20.000\ttrn_loss: 0.019\tval_loss: 0.013\t(22.90s - 45.80s remaining)\n",
      "EPOCH: 20.000\ttrn_loss: 0.019\tval_loss: 0.013\t(22.90s - 45.81s remaining)\n",
      "EPOCH: 20.000\ttrn_loss: 0.019\tval_loss: 0.013\t(22.91s - 45.81s remaining)\n",
      "EPOCH: 20.000\ttrn_loss: 0.019\tval_loss: 0.013\t(22.91s - 45.81s remaining)\n",
      "EPOCH: 20.000\ttrn_loss: 0.019\tval_loss: 0.013\t(22.91s - 45.82s remaining)\n",
      "EPOCH: 20.000\ttrn_loss: 0.019\tval_loss: 0.013\t(22.91s - 45.82s remaining)\n",
      "EPOCH: 20.000\ttrn_loss: 0.019\tval_loss: 0.013\t(22.91s - 45.82s remaining)\n",
      "EPOCH: 20.000\ttrn_loss: 0.019\tval_loss: 0.013\t(22.91s - 45.83s remaining)\n",
      "EPOCH: 20.000\ttrn_loss: 0.019\tval_loss: 0.013\t(22.91s - 45.83s remaining)\n",
      "EPOCH: 20.000\ttrn_loss: 0.019\tval_loss: 0.013\t(22.92s - 45.83s remaining)\n",
      "EPOCH: 20.000\ttrn_loss: 0.019\tval_loss: 0.013\t(22.92s - 45.84s remaining)\n",
      "EPOCH: 20.000\ttrn_loss: 0.019\tval_loss: 0.013\t(22.92s - 45.84s remaining)\n",
      "EPOCH: 20.000\ttrn_loss: 0.019\tval_loss: 0.013\t(22.92s - 45.84s remaining)\n",
      "EPOCH: 20.000\ttrn_loss: 0.019\tval_loss: 0.013\t(22.92s - 45.85s remaining)\n",
      "EPOCH: 20.000\ttrn_loss: 0.019\tval_loss: 0.013\t(22.92s - 45.85s remaining)\n",
      "EPOCH: 20.000\ttrn_loss: 0.019\tval_loss: 0.013\t(22.93s - 45.85s remaining)\n",
      "EPOCH: 20.000\ttrn_loss: 0.019\tval_loss: 0.013\t(22.93s - 45.86s remaining)\n",
      "EPOCH: 20.000\ttrn_loss: 0.019\tval_loss: 0.013\t(22.93s - 45.86s remaining)\n",
      "EPOCH: 20.000\ttrn_loss: 0.019\tval_loss: 0.013\t(22.93s - 45.86s remaining)\n",
      "EPOCH: 20.000\ttrn_loss: 0.019\tval_loss: 0.013\t(22.93s - 45.87s remaining)\n",
      "EPOCH: 20.000\ttrn_loss: 0.019\tval_loss: 0.013\t(22.93s - 45.87s remaining)\n",
      "EPOCH: 20.000\ttrn_loss: 0.019\tval_loss: 0.013\t(22.94s - 45.87s remaining)\n",
      "EPOCH: 20.000\ttrn_loss: 0.019\tval_loss: 0.013\t(22.94s - 45.88s remaining)\n",
      "EPOCH: 20.000\ttrn_loss: 0.019\tval_loss: 0.013\t(22.94s - 45.88s remaining)\n",
      "EPOCH: 30.000\ttrn_loss: 0.017\tval_loss: 0.012\t(34.06s - 34.06s remaining)\n",
      "EPOCH: 30.000\ttrn_loss: 0.017\tval_loss: 0.012\t(34.06s - 34.06s remaining)\n",
      "EPOCH: 30.000\ttrn_loss: 0.017\tval_loss: 0.012\t(34.06s - 34.06s remaining)\n",
      "EPOCH: 30.000\ttrn_loss: 0.017\tval_loss: 0.012\t(34.06s - 34.06s remaining)\n",
      "EPOCH: 30.000\ttrn_loss: 0.017\tval_loss: 0.012\t(34.06s - 34.06s remaining)\n",
      "EPOCH: 30.000\ttrn_loss: 0.017\tval_loss: 0.012\t(34.07s - 34.07s remaining)\n",
      "EPOCH: 30.000\ttrn_loss: 0.017\tval_loss: 0.012\t(34.07s - 34.07s remaining)\n",
      "EPOCH: 30.000\ttrn_loss: 0.017\tval_loss: 0.012\t(34.07s - 34.07s remaining)\n",
      "EPOCH: 30.000\ttrn_loss: 0.017\tval_loss: 0.012\t(34.07s - 34.07s remaining)\n",
      "EPOCH: 30.000\ttrn_loss: 0.017\tval_loss: 0.012\t(34.07s - 34.07s remaining)\n",
      "EPOCH: 30.000\ttrn_loss: 0.017\tval_loss: 0.012\t(34.07s - 34.07s remaining)\n",
      "EPOCH: 30.000\ttrn_loss: 0.017\tval_loss: 0.012\t(34.08s - 34.08s remaining)\n",
      "EPOCH: 30.000\ttrn_loss: 0.017\tval_loss: 0.012\t(34.08s - 34.08s remaining)\n",
      "EPOCH: 30.000\ttrn_loss: 0.017\tval_loss: 0.012\t(34.08s - 34.08s remaining)\n",
      "EPOCH: 30.000\ttrn_loss: 0.017\tval_loss: 0.012\t(34.08s - 34.08s remaining)\n",
      "EPOCH: 30.000\ttrn_loss: 0.017\tval_loss: 0.012\t(34.08s - 34.08s remaining)\n",
      "EPOCH: 30.000\ttrn_loss: 0.017\tval_loss: 0.012\t(34.08s - 34.08s remaining)\n",
      "EPOCH: 30.000\ttrn_loss: 0.017\tval_loss: 0.012\t(34.08s - 34.08s remaining)\n",
      "EPOCH: 30.000\ttrn_loss: 0.017\tval_loss: 0.012\t(34.09s - 34.09s remaining)\n",
      "EPOCH: 30.000\ttrn_loss: 0.017\tval_loss: 0.012\t(34.09s - 34.09s remaining)\n",
      "EPOCH: 30.000\ttrn_loss: 0.017\tval_loss: 0.012\t(34.09s - 34.09s remaining)\n",
      "EPOCH: 30.000\ttrn_loss: 0.017\tval_loss: 0.012\t(34.09s - 34.09s remaining)\n",
      "EPOCH: 30.000\ttrn_loss: 0.017\tval_loss: 0.012\t(34.09s - 34.09s remaining)\n",
      "EPOCH: 30.000\ttrn_loss: 0.017\tval_loss: 0.012\t(34.10s - 34.10s remaining)\n",
      "EPOCH: 30.000\ttrn_loss: 0.017\tval_loss: 0.012\t(34.10s - 34.10s remaining)\n",
      "EPOCH: 30.000\ttrn_loss: 0.017\tval_loss: 0.012\t(34.10s - 34.10s remaining)\n",
      "EPOCH: 30.000\ttrn_loss: 0.017\tval_loss: 0.012\t(34.10s - 34.10s remaining)\n",
      "EPOCH: 30.000\ttrn_loss: 0.017\tval_loss: 0.012\t(34.10s - 34.10s remaining)\n",
      "EPOCH: 30.000\ttrn_loss: 0.017\tval_loss: 0.012\t(34.10s - 34.10s remaining)\n",
      "EPOCH: 30.000\ttrn_loss: 0.017\tval_loss: 0.012\t(34.10s - 34.10s remaining)\n",
      "EPOCH: 30.000\ttrn_loss: 0.017\tval_loss: 0.012\t(34.11s - 34.11s remaining)\n",
      "EPOCH: 30.000\ttrn_loss: 0.017\tval_loss: 0.012\t(34.11s - 34.11s remaining)\n",
      "EPOCH: 30.000\ttrn_loss: 0.017\tval_loss: 0.012\t(34.11s - 34.11s remaining)\n",
      "EPOCH: 30.000\ttrn_loss: 0.017\tval_loss: 0.012\t(34.11s - 34.11s remaining)\n",
      "EPOCH: 30.000\ttrn_loss: 0.017\tval_loss: 0.012\t(34.11s - 34.11s remaining)\n",
      "EPOCH: 30.000\ttrn_loss: 0.017\tval_loss: 0.012\t(34.11s - 34.11s remaining)\n",
      "EPOCH: 30.000\ttrn_loss: 0.017\tval_loss: 0.012\t(34.12s - 34.12s remaining)\n",
      "EPOCH: 30.000\ttrn_loss: 0.017\tval_loss: 0.012\t(34.12s - 34.12s remaining)\n",
      "EPOCH: 30.000\ttrn_loss: 0.017\tval_loss: 0.012\t(34.12s - 34.12s remaining)\n",
      "EPOCH: 30.000\ttrn_loss: 0.017\tval_loss: 0.012\t(34.12s - 34.12s remaining)\n",
      "EPOCH: 30.000\ttrn_loss: 0.017\tval_loss: 0.012\t(34.12s - 34.12s remaining)\n",
      "EPOCH: 30.000\ttrn_loss: 0.017\tval_loss: 0.012\t(34.12s - 34.12s remaining)\n",
      "EPOCH: 30.000\ttrn_loss: 0.017\tval_loss: 0.012\t(34.13s - 34.13s remaining)\n",
      "EPOCH: 30.000\ttrn_loss: 0.017\tval_loss: 0.012\t(34.13s - 34.13s remaining)\n",
      "EPOCH: 30.000\ttrn_loss: 0.017\tval_loss: 0.012\t(34.13s - 34.13s remaining)\n",
      "EPOCH: 30.000\ttrn_loss: 0.017\tval_loss: 0.012\t(34.13s - 34.13s remaining)\n",
      "EPOCH: 30.000\ttrn_loss: 0.017\tval_loss: 0.012\t(34.13s - 34.13s remaining)\n",
      "EPOCH: 40.000\ttrn_loss: 0.014\tval_loss: 0.011\t(45.03s - 22.52s remaining)\n",
      "EPOCH: 40.000\ttrn_loss: 0.014\tval_loss: 0.011\t(45.03s - 22.52s remaining)\n",
      "EPOCH: 40.000\ttrn_loss: 0.014\tval_loss: 0.011\t(45.03s - 22.52s remaining)\n",
      "EPOCH: 40.000\ttrn_loss: 0.014\tval_loss: 0.011\t(45.04s - 22.52s remaining)\n",
      "EPOCH: 40.000\ttrn_loss: 0.014\tval_loss: 0.011\t(45.04s - 22.52s remaining)\n",
      "EPOCH: 40.000\ttrn_loss: 0.014\tval_loss: 0.011\t(45.04s - 22.52s remaining)\n",
      "EPOCH: 40.000\ttrn_loss: 0.014\tval_loss: 0.011\t(45.04s - 22.52s remaining)\n",
      "EPOCH: 40.000\ttrn_loss: 0.014\tval_loss: 0.010\t(45.04s - 22.52s remaining)\n",
      "EPOCH: 40.000\ttrn_loss: 0.014\tval_loss: 0.010\t(45.04s - 22.52s remaining)\n",
      "EPOCH: 40.000\ttrn_loss: 0.014\tval_loss: 0.010\t(45.05s - 22.52s remaining)\n",
      "EPOCH: 40.000\ttrn_loss: 0.014\tval_loss: 0.010\t(45.05s - 22.52s remaining)\n",
      "EPOCH: 40.000\ttrn_loss: 0.014\tval_loss: 0.011\t(45.05s - 22.52s remaining)\n",
      "EPOCH: 40.000\ttrn_loss: 0.014\tval_loss: 0.011\t(45.05s - 22.53s remaining)\n",
      "EPOCH: 40.000\ttrn_loss: 0.014\tval_loss: 0.011\t(45.05s - 22.53s remaining)\n",
      "EPOCH: 40.000\ttrn_loss: 0.014\tval_loss: 0.011\t(45.05s - 22.53s remaining)\n",
      "EPOCH: 40.000\ttrn_loss: 0.014\tval_loss: 0.011\t(45.06s - 22.53s remaining)\n",
      "EPOCH: 40.000\ttrn_loss: 0.014\tval_loss: 0.011\t(45.06s - 22.53s remaining)\n",
      "EPOCH: 40.000\ttrn_loss: 0.014\tval_loss: 0.011\t(45.06s - 22.53s remaining)\n",
      "EPOCH: 40.000\ttrn_loss: 0.014\tval_loss: 0.011\t(45.06s - 22.53s remaining)\n",
      "EPOCH: 40.000\ttrn_loss: 0.014\tval_loss: 0.011\t(45.06s - 22.53s remaining)\n",
      "EPOCH: 40.000\ttrn_loss: 0.014\tval_loss: 0.011\t(45.06s - 22.53s remaining)\n",
      "EPOCH: 40.000\ttrn_loss: 0.014\tval_loss: 0.011\t(45.07s - 22.53s remaining)\n",
      "EPOCH: 40.000\ttrn_loss: 0.014\tval_loss: 0.011\t(45.07s - 22.53s remaining)\n",
      "EPOCH: 40.000\ttrn_loss: 0.014\tval_loss: 0.011\t(45.07s - 22.54s remaining)\n",
      "EPOCH: 40.000\ttrn_loss: 0.014\tval_loss: 0.011\t(45.07s - 22.54s remaining)\n",
      "EPOCH: 40.000\ttrn_loss: 0.014\tval_loss: 0.011\t(45.07s - 22.54s remaining)\n",
      "EPOCH: 40.000\ttrn_loss: 0.014\tval_loss: 0.011\t(45.08s - 22.54s remaining)\n",
      "EPOCH: 40.000\ttrn_loss: 0.014\tval_loss: 0.011\t(45.08s - 22.54s remaining)\n",
      "EPOCH: 40.000\ttrn_loss: 0.014\tval_loss: 0.011\t(45.08s - 22.54s remaining)\n",
      "EPOCH: 40.000\ttrn_loss: 0.014\tval_loss: 0.011\t(45.08s - 22.54s remaining)\n",
      "EPOCH: 40.000\ttrn_loss: 0.014\tval_loss: 0.011\t(45.08s - 22.54s remaining)\n",
      "EPOCH: 40.000\ttrn_loss: 0.014\tval_loss: 0.011\t(45.08s - 22.54s remaining)\n",
      "EPOCH: 40.000\ttrn_loss: 0.014\tval_loss: 0.011\t(45.09s - 22.54s remaining)\n",
      "EPOCH: 40.000\ttrn_loss: 0.014\tval_loss: 0.011\t(45.09s - 22.54s remaining)\n",
      "EPOCH: 40.000\ttrn_loss: 0.014\tval_loss: 0.011\t(45.09s - 22.54s remaining)\n",
      "EPOCH: 40.000\ttrn_loss: 0.014\tval_loss: 0.011\t(45.09s - 22.55s remaining)\n",
      "EPOCH: 40.000\ttrn_loss: 0.014\tval_loss: 0.011\t(45.09s - 22.55s remaining)\n",
      "EPOCH: 40.000\ttrn_loss: 0.014\tval_loss: 0.011\t(45.09s - 22.55s remaining)\n",
      "EPOCH: 40.000\ttrn_loss: 0.014\tval_loss: 0.011\t(45.10s - 22.55s remaining)\n",
      "EPOCH: 40.000\ttrn_loss: 0.014\tval_loss: 0.011\t(45.10s - 22.55s remaining)\n",
      "EPOCH: 40.000\ttrn_loss: 0.014\tval_loss: 0.011\t(45.10s - 22.55s remaining)\n",
      "EPOCH: 40.000\ttrn_loss: 0.014\tval_loss: 0.011\t(45.10s - 22.55s remaining)\n",
      "EPOCH: 40.000\ttrn_loss: 0.014\tval_loss: 0.011\t(45.10s - 22.55s remaining)\n",
      "EPOCH: 40.000\ttrn_loss: 0.014\tval_loss: 0.011\t(45.10s - 22.55s remaining)\n",
      "EPOCH: 40.000\ttrn_loss: 0.014\tval_loss: 0.011\t(45.11s - 22.55s remaining)\n",
      "EPOCH: 40.000\ttrn_loss: 0.014\tval_loss: 0.011\t(45.11s - 22.55s remaining)\n",
      "EPOCH: 40.000\ttrn_loss: 0.014\tval_loss: 0.011\t(45.11s - 22.55s remaining)\n",
      "EPOCH: 50.000\ttrn_loss: 0.012\tval_loss: 0.011\t(55.78s - 11.16s remaining)\n",
      "EPOCH: 50.000\ttrn_loss: 0.012\tval_loss: 0.010\t(55.78s - 11.16s remaining)\n",
      "EPOCH: 50.000\ttrn_loss: 0.012\tval_loss: 0.010\t(55.79s - 11.16s remaining)\n",
      "EPOCH: 50.000\ttrn_loss: 0.012\tval_loss: 0.010\t(55.79s - 11.16s remaining)\n",
      "EPOCH: 50.000\ttrn_loss: 0.012\tval_loss: 0.010\t(55.79s - 11.16s remaining)\n",
      "EPOCH: 50.000\ttrn_loss: 0.012\tval_loss: 0.010\t(55.79s - 11.16s remaining)\n",
      "EPOCH: 50.000\ttrn_loss: 0.012\tval_loss: 0.010\t(55.79s - 11.16s remaining)\n",
      "EPOCH: 50.000\ttrn_loss: 0.012\tval_loss: 0.010\t(55.79s - 11.16s remaining)\n",
      "EPOCH: 50.000\ttrn_loss: 0.012\tval_loss: 0.010\t(55.80s - 11.16s remaining)\n",
      "EPOCH: 50.000\ttrn_loss: 0.012\tval_loss: 0.010\t(55.80s - 11.16s remaining)\n",
      "EPOCH: 50.000\ttrn_loss: 0.012\tval_loss: 0.010\t(55.80s - 11.16s remaining)\n",
      "EPOCH: 50.000\ttrn_loss: 0.012\tval_loss: 0.010\t(55.80s - 11.16s remaining)\n",
      "EPOCH: 50.000\ttrn_loss: 0.012\tval_loss: 0.010\t(55.80s - 11.16s remaining)\n",
      "EPOCH: 50.000\ttrn_loss: 0.012\tval_loss: 0.010\t(55.81s - 11.16s remaining)\n",
      "EPOCH: 50.000\ttrn_loss: 0.012\tval_loss: 0.010\t(55.81s - 11.16s remaining)\n",
      "EPOCH: 50.000\ttrn_loss: 0.012\tval_loss: 0.010\t(55.81s - 11.16s remaining)\n",
      "EPOCH: 50.000\ttrn_loss: 0.012\tval_loss: 0.010\t(55.81s - 11.16s remaining)\n",
      "EPOCH: 50.000\ttrn_loss: 0.012\tval_loss: 0.010\t(55.81s - 11.16s remaining)\n",
      "EPOCH: 50.000\ttrn_loss: 0.012\tval_loss: 0.010\t(55.82s - 11.16s remaining)\n",
      "EPOCH: 50.000\ttrn_loss: 0.012\tval_loss: 0.010\t(55.82s - 11.16s remaining)\n",
      "EPOCH: 50.000\ttrn_loss: 0.012\tval_loss: 0.010\t(55.82s - 11.16s remaining)\n",
      "EPOCH: 50.000\ttrn_loss: 0.012\tval_loss: 0.010\t(55.82s - 11.16s remaining)\n",
      "EPOCH: 50.000\ttrn_loss: 0.012\tval_loss: 0.010\t(55.82s - 11.16s remaining)\n",
      "EPOCH: 50.000\ttrn_loss: 0.012\tval_loss: 0.010\t(55.83s - 11.17s remaining)\n",
      "EPOCH: 50.000\ttrn_loss: 0.012\tval_loss: 0.010\t(55.83s - 11.17s remaining)\n",
      "EPOCH: 50.000\ttrn_loss: 0.012\tval_loss: 0.010\t(55.83s - 11.17s remaining)\n",
      "EPOCH: 50.000\ttrn_loss: 0.012\tval_loss: 0.010\t(55.83s - 11.17s remaining)\n",
      "EPOCH: 50.000\ttrn_loss: 0.012\tval_loss: 0.010\t(55.83s - 11.17s remaining)\n",
      "EPOCH: 50.000\ttrn_loss: 0.012\tval_loss: 0.010\t(55.84s - 11.17s remaining)\n",
      "EPOCH: 50.000\ttrn_loss: 0.012\tval_loss: 0.010\t(55.84s - 11.17s remaining)\n",
      "EPOCH: 50.000\ttrn_loss: 0.012\tval_loss: 0.010\t(55.84s - 11.17s remaining)\n",
      "EPOCH: 50.000\ttrn_loss: 0.012\tval_loss: 0.010\t(55.84s - 11.17s remaining)\n",
      "EPOCH: 50.000\ttrn_loss: 0.012\tval_loss: 0.010\t(55.84s - 11.17s remaining)\n",
      "EPOCH: 50.000\ttrn_loss: 0.012\tval_loss: 0.010\t(55.84s - 11.17s remaining)\n",
      "EPOCH: 50.000\ttrn_loss: 0.012\tval_loss: 0.010\t(55.85s - 11.17s remaining)\n",
      "EPOCH: 50.000\ttrn_loss: 0.012\tval_loss: 0.010\t(55.85s - 11.17s remaining)\n",
      "EPOCH: 50.000\ttrn_loss: 0.012\tval_loss: 0.010\t(55.85s - 11.17s remaining)\n",
      "EPOCH: 50.000\ttrn_loss: 0.012\tval_loss: 0.010\t(55.85s - 11.17s remaining)\n",
      "EPOCH: 50.000\ttrn_loss: 0.012\tval_loss: 0.010\t(55.85s - 11.17s remaining)\n",
      "EPOCH: 50.000\ttrn_loss: 0.012\tval_loss: 0.010\t(55.86s - 11.17s remaining)\n",
      "EPOCH: 50.000\ttrn_loss: 0.012\tval_loss: 0.010\t(55.86s - 11.17s remaining)\n",
      "EPOCH: 50.000\ttrn_loss: 0.012\tval_loss: 0.010\t(55.86s - 11.17s remaining)\n",
      "EPOCH: 50.000\ttrn_loss: 0.012\tval_loss: 0.010\t(55.86s - 11.17s remaining)\n",
      "EPOCH: 50.000\ttrn_loss: 0.012\tval_loss: 0.010\t(55.86s - 11.17s remaining)\n",
      "EPOCH: 50.000\ttrn_loss: 0.012\tval_loss: 0.010\t(55.87s - 11.17s remaining)\n",
      "EPOCH: 50.000\ttrn_loss: 0.012\tval_loss: 0.010\t(55.87s - 11.17s remaining)\n",
      "EPOCH: 50.000\ttrn_loss: 0.012\tval_loss: 0.010\t(55.87s - 11.17s remaining)\n",
      "EPOCH: 60.000\ttrn_loss: 0.011\tval_loss: 0.010\t(66.79s - 0.00s remaining)\n",
      "EPOCH: 60.000\ttrn_loss: 0.011\tval_loss: 0.010\t(66.79s - 0.00s remaining)\n",
      "EPOCH: 60.000\ttrn_loss: 0.011\tval_loss: 0.010\t(66.79s - 0.00s remaining)\n",
      "EPOCH: 60.000\ttrn_loss: 0.011\tval_loss: 0.010\t(66.80s - 0.00s remaining)\n",
      "EPOCH: 60.000\ttrn_loss: 0.011\tval_loss: 0.010\t(66.80s - 0.00s remaining)\n",
      "EPOCH: 60.000\ttrn_loss: 0.011\tval_loss: 0.010\t(66.80s - 0.00s remaining)\n",
      "EPOCH: 60.000\ttrn_loss: 0.011\tval_loss: 0.010\t(66.81s - 0.00s remaining)\n",
      "EPOCH: 60.000\ttrn_loss: 0.011\tval_loss: 0.009\t(66.81s - 0.00s remaining)\n",
      "EPOCH: 60.000\ttrn_loss: 0.011\tval_loss: 0.009\t(66.81s - 0.00s remaining)\n",
      "EPOCH: 60.000\ttrn_loss: 0.011\tval_loss: 0.009\t(66.81s - 0.00s remaining)\n",
      "EPOCH: 60.000\ttrn_loss: 0.011\tval_loss: 0.009\t(66.82s - 0.00s remaining)\n",
      "EPOCH: 60.000\ttrn_loss: 0.011\tval_loss: 0.009\t(66.82s - 0.00s remaining)\n",
      "EPOCH: 60.000\ttrn_loss: 0.011\tval_loss: 0.009\t(66.82s - 0.00s remaining)\n",
      "EPOCH: 60.000\ttrn_loss: 0.011\tval_loss: 0.010\t(66.82s - 0.00s remaining)\n",
      "EPOCH: 60.000\ttrn_loss: 0.011\tval_loss: 0.010\t(66.83s - 0.00s remaining)\n",
      "EPOCH: 60.000\ttrn_loss: 0.011\tval_loss: 0.010\t(66.83s - 0.00s remaining)\n",
      "EPOCH: 60.000\ttrn_loss: 0.011\tval_loss: 0.010\t(66.83s - 0.00s remaining)\n",
      "EPOCH: 60.000\ttrn_loss: 0.011\tval_loss: 0.010\t(66.83s - 0.00s remaining)\n",
      "EPOCH: 60.000\ttrn_loss: 0.011\tval_loss: 0.010\t(66.83s - 0.00s remaining)\n",
      "EPOCH: 60.000\ttrn_loss: 0.011\tval_loss: 0.010\t(66.84s - 0.00s remaining)\n",
      "EPOCH: 60.000\ttrn_loss: 0.011\tval_loss: 0.010\t(66.84s - 0.00s remaining)\n",
      "EPOCH: 60.000\ttrn_loss: 0.011\tval_loss: 0.010\t(66.84s - 0.00s remaining)\n",
      "EPOCH: 60.000\ttrn_loss: 0.011\tval_loss: 0.010\t(66.84s - 0.00s remaining)\n",
      "EPOCH: 60.000\ttrn_loss: 0.011\tval_loss: 0.010\t(66.85s - 0.00s remaining)\n",
      "EPOCH: 60.000\ttrn_loss: 0.011\tval_loss: 0.010\t(66.85s - 0.00s remaining)\n",
      "EPOCH: 60.000\ttrn_loss: 0.011\tval_loss: 0.010\t(66.85s - 0.00s remaining)\n",
      "EPOCH: 60.000\ttrn_loss: 0.011\tval_loss: 0.010\t(66.85s - 0.00s remaining)\n",
      "EPOCH: 60.000\ttrn_loss: 0.011\tval_loss: 0.010\t(66.85s - 0.00s remaining)\n",
      "EPOCH: 60.000\ttrn_loss: 0.011\tval_loss: 0.010\t(66.86s - 0.00s remaining)\n",
      "EPOCH: 60.000\ttrn_loss: 0.011\tval_loss: 0.010\t(66.86s - 0.00s remaining)\n",
      "EPOCH: 60.000\ttrn_loss: 0.011\tval_loss: 0.010\t(66.86s - 0.00s remaining)\n",
      "EPOCH: 60.000\ttrn_loss: 0.011\tval_loss: 0.010\t(66.86s - 0.00s remaining)\n",
      "EPOCH: 60.000\ttrn_loss: 0.011\tval_loss: 0.010\t(66.86s - 0.00s remaining)\n",
      "EPOCH: 60.000\ttrn_loss: 0.011\tval_loss: 0.010\t(66.87s - 0.00s remaining)\n",
      "EPOCH: 60.000\ttrn_loss: 0.011\tval_loss: 0.010\t(66.87s - 0.00s remaining)\n",
      "EPOCH: 60.000\ttrn_loss: 0.011\tval_loss: 0.010\t(66.87s - 0.00s remaining)\n",
      "EPOCH: 60.000\ttrn_loss: 0.011\tval_loss: 0.010\t(66.87s - 0.00s remaining)\n",
      "EPOCH: 60.000\ttrn_loss: 0.011\tval_loss: 0.010\t(66.87s - 0.00s remaining)\n",
      "EPOCH: 60.000\ttrn_loss: 0.011\tval_loss: 0.010\t(66.88s - 0.00s remaining)\n",
      "EPOCH: 60.000\ttrn_loss: 0.011\tval_loss: 0.010\t(66.88s - 0.00s remaining)\n",
      "EPOCH: 60.000\ttrn_loss: 0.011\tval_loss: 0.010\t(66.88s - 0.00s remaining)\n",
      "EPOCH: 60.000\ttrn_loss: 0.011\tval_loss: 0.010\t(66.88s - 0.00s remaining)\n",
      "EPOCH: 60.000\ttrn_loss: 0.011\tval_loss: 0.010\t(66.88s - 0.00s remaining)\n",
      "EPOCH: 60.000\ttrn_loss: 0.011\tval_loss: 0.010\t(66.89s - 0.00s remaining)\n",
      "EPOCH: 60.000\ttrn_loss: 0.011\tval_loss: 0.010\t(66.89s - 0.00s remaining)\n",
      "EPOCH: 60.000\ttrn_loss: 0.011\tval_loss: 0.010\t(66.89s - 0.00s remaining)\n",
      "EPOCH: 60.000\ttrn_loss: 0.011\tval_loss: 0.010\t(66.89s - 0.00s remaining)\n"
     ]
    },
    {
     "name": "stderr",
     "output_type": "stream",
     "text": [
      "100%|██████████| 161/161 [00:00<00:00, 581.40it/s]\n"
     ]
    },
    {
     "data": {
      "image/png": "[encoded data removed]",
      "text/plain": [
       "<Figure size 576x432 with 1 Axes>"
      ]
     },
     "metadata": {
      "needs_background": "light"
     },
     "output_type": "display_data"
    }
   ],
   "source": [
    "model = build_model().to(device)\n",
    "criterion = nn.MSELoss()\n",
    "optimizer = optim.Adam(model.parameters(), lr=1e-3)\n",
    "n_epochs = 60\n",
    "log = Report(n_epochs)\n",
    "for ex in range(n_epochs):\n",
    "    N = len(trn_dl)\n",
    "    for bx, data in enumerate(trn_dl):\n",
    "        loss = train_batch(model, data, optimizer, criterion)\n",
    "        log.record(ex+(bx+1)/N, trn_loss=loss, end='\\r')\n",
    "    N = len(val_dl)\n",
    "    for bx, data in enumerate(val_dl):\n",
    "        loss = validate_batch(model, data, criterion)\n",
    "        log.record(ex+(bx+1)/N, val_loss=loss, end='\\r')\n",
    "        if not (ex+1)%10: log.report_avgs(ex+1)\n",
    "log.plot_epochs(log=True)"
   ]
  },
  {
   "cell_type": "code",
   "execution_count": 27,
   "metadata": {},
   "outputs": [],
   "source": [
    "pred_zsl = model(torch.Tensor(x_zsl).to(device)).cpu().detach().numpy()\n",
    "class_vectors = sorted(np.load(WORD2VECPATH, allow_pickle=True), key=lambda x: x[0])\n",
    "classnames, vectors = zip(*class_vectors)\n",
    "classnames = list(classnames)\n",
    "vectors = np.array(vectors)"
   ]
  },
  {
   "cell_type": "code",
   "execution_count": 28,
   "metadata": {},
   "outputs": [
    {
     "data": {
      "text/plain": [
       "0.7958979489744873"
      ]
     },
     "execution_count": 28,
     "metadata": {},
     "output_type": "execute_result"
    }
   ],
   "source": [
    "dists = (pred_zsl[None] - vectors[:,None])\n",
    "dists = (dists**2).sum(-1).T\n",
    "best_classes = []\n",
    "for item in dists:\n",
    "    best_classes.append([classnames[j] for j in np.argsort(item)[:5]])\n",
    "np.mean([i in J for i,J in zip(zero_shot_clss, best_classes)])"
   ]
  }
 ],
 "metadata": {
  "kernelspec": {
   "display_name": "Python 3.8.10 64-bit",
   "language": "python",
   "name": "python3"
  },
  "language_info": {
   "codemirror_mode": {
    "name": "ipython",
    "version": 3
   },
   "file_extension": ".py",
   "mimetype": "text/x-python",
   "name": "python",
   "nbconvert_exporter": "python",
   "pygments_lexer": "ipython3",
   "version": "3.8.10"
  },
  "orig_nbformat": 4,
  "vscode": {
   "interpreter": {
    "hash": "916dbcbb3f70747c44a77c7bcd40155683ae19c65e1c03b4aa3499c5328201f1"
   }
  }
 },
 "nbformat": 4,
 "nbformat_minor": 2
}
