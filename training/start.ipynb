{
 "cells": [
  {
   "cell_type": "code",
   "execution_count": 8,
   "metadata": {},
   "outputs": [
    {
     "name": "stdout",
     "output_type": "stream",
     "text": [
      "Cloning into 'zero-shot-learning'...\n",
      "remote: Enumerating objects: 102, done.\u001b[K\n",
      "remote: Counting objects: 100% (23/23), done.\u001b[K\n",
      "remote: Compressing objects: 100% (4/4), done.\u001b[K\n",
      "remote: Total 102 (delta 20), reused 19 (delta 19), pack-reused 79\u001b[K\n",
      "Receiving objects: 100% (102/102), 134.47 MiB | 1.03 MiB/s, done.\n",
      "Resolving deltas: 100% (45/45), done.\n"
     ]
    }
   ],
   "source": [
    "!git clone https://github.com/sizhky/zero-shot-learning/"
   ]
  },
  {
   "cell_type": "code",
   "execution_count": 9,
   "metadata": {},
   "outputs": [],
   "source": [
    "!pip install -Uq torch_snippets"
   ]
  },
  {
   "cell_type": "code",
   "execution_count": 10,
   "metadata": {},
   "outputs": [
    {
     "name": "stdout",
     "output_type": "stream",
     "text": [
      "/home/delameta/ramma/NoteRM/Implementing_zero-shot_Learning_Deeplearning_Project/training/zero-shot-learning/src/zero-shot-learning/src\n"
     ]
    }
   ],
   "source": [
    "%cd zero-shot-learning/src"
   ]
  },
  {
   "cell_type": "code",
   "execution_count": 11,
   "metadata": {},
   "outputs": [
    {
     "name": "stdout",
     "output_type": "stream",
     "text": [
      "detect_object.py      train_classes.txt  zsl_classes.txt\n",
      "feature_extractor.py  train.py\n"
     ]
    }
   ],
   "source": [
    "%ls"
   ]
  },
  {
   "cell_type": "code",
   "execution_count": 12,
   "metadata": {},
   "outputs": [],
   "source": [
    "import gzip, _pickle as cPickle \n",
    "from torch_snippets import * \n",
    "from sklearn.preprocessing import LabelEncoder, normalize \n",
    "device  = 'cuda' if torch.cuda.is_available() else 'cpu'\n"
   ]
  },
  {
   "cell_type": "code",
   "execution_count": 13,
   "metadata": {},
   "outputs": [
    {
     "data": {
      "text/html": [
       "<pre style=\"white-space:pre;overflow-x:auto;line-height:normal;font-family:Menlo,'DejaVu Sans Mono',consolas,'Courier New',monospace\"><span style=\"font-weight: bold\">[</span>\n",
       "    <span style=\"color: #008000; text-decoration-color: #008000\">'arm'</span>,\n",
       "    <span style=\"color: #008000; text-decoration-color: #008000\">'boy'</span>,\n",
       "    <span style=\"color: #008000; text-decoration-color: #008000\">'bread'</span>,\n",
       "    <span style=\"color: #008000; text-decoration-color: #008000\">'chicken'</span>,\n",
       "    <span style=\"color: #008000; text-decoration-color: #008000\">'child'</span>,\n",
       "    <span style=\"color: #008000; text-decoration-color: #008000\">'computer'</span>,\n",
       "    <span style=\"color: #008000; text-decoration-color: #008000\">'ear'</span>,\n",
       "    <span style=\"color: #008000; text-decoration-color: #008000\">'house'</span>,\n",
       "    <span style=\"color: #008000; text-decoration-color: #008000\">'leg'</span>,\n",
       "    <span style=\"color: #008000; text-decoration-color: #008000\">'sandwich'</span>,\n",
       "    <span style=\"color: #008000; text-decoration-color: #008000\">'television'</span>,\n",
       "    <span style=\"color: #008000; text-decoration-color: #008000\">'truck'</span>,\n",
       "    <span style=\"color: #008000; text-decoration-color: #008000\">'vehicle'</span>,\n",
       "    <span style=\"color: #008000; text-decoration-color: #008000\">'watch'</span>,\n",
       "    <span style=\"color: #008000; text-decoration-color: #008000\">'woman'</span>\n",
       "<span style=\"font-weight: bold\">]</span>\n",
       "</pre>\n"
      ],
      "text/plain": [
       "\u001b[1m[\u001b[0m\n",
       "    \u001b[32m'arm'\u001b[0m,\n",
       "    \u001b[32m'boy'\u001b[0m,\n",
       "    \u001b[32m'bread'\u001b[0m,\n",
       "    \u001b[32m'chicken'\u001b[0m,\n",
       "    \u001b[32m'child'\u001b[0m,\n",
       "    \u001b[32m'computer'\u001b[0m,\n",
       "    \u001b[32m'ear'\u001b[0m,\n",
       "    \u001b[32m'house'\u001b[0m,\n",
       "    \u001b[32m'leg'\u001b[0m,\n",
       "    \u001b[32m'sandwich'\u001b[0m,\n",
       "    \u001b[32m'television'\u001b[0m,\n",
       "    \u001b[32m'truck'\u001b[0m,\n",
       "    \u001b[32m'vehicle'\u001b[0m,\n",
       "    \u001b[32m'watch'\u001b[0m,\n",
       "    \u001b[32m'woman'\u001b[0m\n",
       "\u001b[1m]\u001b[0m\n"
      ]
     },
     "metadata": {},
     "output_type": "display_data"
    }
   ],
   "source": [
    "WORD2VECPATH = \"../data/class_vectors.npy\"\n",
    "DATAPATH = \"../data/zeroshot_data.pkl\"\n",
    "\n",
    "with open('train_classes.txt', 'r') as infile:\n",
    "    train_classes = [str.strip(line) for line in infile]\n",
    "    print(train_classes)"
   ]
  },
  {
   "cell_type": "code",
   "execution_count": 14,
   "metadata": {},
   "outputs": [],
   "source": [
    "with gzip.GzipFile(DATAPATH, 'rb') as infile:\n",
    "    data = cPickle.load(infile)"
   ]
  },
  {
   "cell_type": "code",
   "execution_count": 16,
   "metadata": {},
   "outputs": [],
   "source": [
    "training_data = [instance for instance in data if instance[0] in train_classes]\n",
    "zero_shot_data = [instance for instance in data if instance[0] not in train_classes]\n",
    "np.random.shuffle(training_data)"
   ]
  },
  {
   "cell_type": "code",
   "execution_count": null,
   "metadata": {},
   "outputs": [],
   "source": [
    "train_size = 300 # per class\n",
    "train_data, valid_data = [], []\n",
    "for class_label in train_classes:\n",
    "    ctr = 0\n",
    "    for instance in training_data:\n",
    "        if instance[0] == class_label:\n",
    "            if ctr < train_size:\n",
    "                train_data.append(instance)\n",
    "                ctr+=1\n",
    "            else:\n",
    "                valid_data.append(instance)"
   ]
  },
  {
   "cell_type": "code",
   "execution_count": null,
   "metadata": {},
   "outputs": [],
   "source": []
  }
 ],
 "metadata": {
  "kernelspec": {
   "display_name": "Python 3.8.10 64-bit",
   "language": "python",
   "name": "python3"
  },
  "language_info": {
   "codemirror_mode": {
    "name": "ipython",
    "version": 3
   },
   "file_extension": ".py",
   "mimetype": "text/x-python",
   "name": "python",
   "nbconvert_exporter": "python",
   "pygments_lexer": "ipython3",
   "version": "3.8.10"
  },
  "orig_nbformat": 4,
  "vscode": {
   "interpreter": {
    "hash": "916dbcbb3f70747c44a77c7bcd40155683ae19c65e1c03b4aa3499c5328201f1"
   }
  }
 },
 "nbformat": 4,
 "nbformat_minor": 2
}
