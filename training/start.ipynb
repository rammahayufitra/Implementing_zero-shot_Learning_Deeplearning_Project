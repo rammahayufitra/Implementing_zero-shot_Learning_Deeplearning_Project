{
 "cells": [
  {
   "cell_type": "code",
   "execution_count": 6,
   "metadata": {},
   "outputs": [],
   "source": [
    "# !git clone https://github.com/sizhky/zero-shot-learning/"
   ]
  },
  {
   "cell_type": "code",
   "execution_count": 7,
   "metadata": {},
   "outputs": [],
   "source": [
    "!pip install -Uq torch_snippets"
   ]
  },
  {
   "cell_type": "code",
   "execution_count": 8,
   "metadata": {},
   "outputs": [
    {
     "name": "stdout",
     "output_type": "stream",
     "text": [
      "/home/delameta/ramma/NoteRM/Implementing_zero-shot_Learning_Deeplearning_Project/training/zero-shot-learning/src/zero-shot-learning/src\n"
     ]
    }
   ],
   "source": [
    "%cd zero-shot-learning/src"
   ]
  },
  {
   "cell_type": "code",
   "execution_count": 9,
   "metadata": {},
   "outputs": [
    {
     "name": "stdout",
     "output_type": "stream",
     "text": [
      "detect_object.py      train_classes.txt  zsl_classes.txt\n",
      "feature_extractor.py  train.py\n"
     ]
    }
   ],
   "source": [
    "%ls"
   ]
  },
  {
   "cell_type": "code",
   "execution_count": 10,
   "metadata": {},
   "outputs": [
    {
     "name": "stderr",
     "output_type": "stream",
     "text": [
      "/home/delameta/.local/lib/python3.8/site-packages/tqdm/auto.py:22: TqdmWarning: IProgress not found. Please update jupyter and ipywidgets. See https://ipywidgets.readthedocs.io/en/stable/user_install.html\n",
      "  from .autonotebook import tqdm as notebook_tqdm\n"
     ]
    }
   ],
   "source": [
    "import gzip, _pickle as cPickle \n",
    "from torch_snippets import * \n",
    "from sklearn.preprocessing import LabelEncoder, normalize \n",
    "device  = 'cuda' if torch.cuda.is_available() else 'cpu'\n"
   ]
  },
  {
   "cell_type": "code",
   "execution_count": 11,
   "metadata": {},
   "outputs": [
    {
     "data": {
      "text/html": [
       "<pre style=\"white-space:pre;overflow-x:auto;line-height:normal;font-family:Menlo,'DejaVu Sans Mono',consolas,'Courier New',monospace\"><span style=\"font-weight: bold\">[</span>\n",
       "    <span style=\"color: #008000; text-decoration-color: #008000\">'arm'</span>,\n",
       "    <span style=\"color: #008000; text-decoration-color: #008000\">'boy'</span>,\n",
       "    <span style=\"color: #008000; text-decoration-color: #008000\">'bread'</span>,\n",
       "    <span style=\"color: #008000; text-decoration-color: #008000\">'chicken'</span>,\n",
       "    <span style=\"color: #008000; text-decoration-color: #008000\">'child'</span>,\n",
       "    <span style=\"color: #008000; text-decoration-color: #008000\">'computer'</span>,\n",
       "    <span style=\"color: #008000; text-decoration-color: #008000\">'ear'</span>,\n",
       "    <span style=\"color: #008000; text-decoration-color: #008000\">'house'</span>,\n",
       "    <span style=\"color: #008000; text-decoration-color: #008000\">'leg'</span>,\n",
       "    <span style=\"color: #008000; text-decoration-color: #008000\">'sandwich'</span>,\n",
       "    <span style=\"color: #008000; text-decoration-color: #008000\">'television'</span>,\n",
       "    <span style=\"color: #008000; text-decoration-color: #008000\">'truck'</span>,\n",
       "    <span style=\"color: #008000; text-decoration-color: #008000\">'vehicle'</span>,\n",
       "    <span style=\"color: #008000; text-decoration-color: #008000\">'watch'</span>,\n",
       "    <span style=\"color: #008000; text-decoration-color: #008000\">'woman'</span>\n",
       "<span style=\"font-weight: bold\">]</span>\n",
       "</pre>\n"
      ],
      "text/plain": [
       "\u001b[1m[\u001b[0m\n",
       "    \u001b[32m'arm'\u001b[0m,\n",
       "    \u001b[32m'boy'\u001b[0m,\n",
       "    \u001b[32m'bread'\u001b[0m,\n",
       "    \u001b[32m'chicken'\u001b[0m,\n",
       "    \u001b[32m'child'\u001b[0m,\n",
       "    \u001b[32m'computer'\u001b[0m,\n",
       "    \u001b[32m'ear'\u001b[0m,\n",
       "    \u001b[32m'house'\u001b[0m,\n",
       "    \u001b[32m'leg'\u001b[0m,\n",
       "    \u001b[32m'sandwich'\u001b[0m,\n",
       "    \u001b[32m'television'\u001b[0m,\n",
       "    \u001b[32m'truck'\u001b[0m,\n",
       "    \u001b[32m'vehicle'\u001b[0m,\n",
       "    \u001b[32m'watch'\u001b[0m,\n",
       "    \u001b[32m'woman'\u001b[0m\n",
       "\u001b[1m]\u001b[0m\n"
      ]
     },
     "metadata": {},
     "output_type": "display_data"
    }
   ],
   "source": [
    "WORD2VECPATH = \"../data/class_vectors.npy\"\n",
    "DATAPATH = \"../data/zeroshot_data.pkl\"\n",
    "\n",
    "with open('train_classes.txt', 'r') as infile:\n",
    "    train_classes = [str.strip(line) for line in infile]\n",
    "    print(train_classes)"
   ]
  },
  {
   "cell_type": "code",
   "execution_count": 12,
   "metadata": {},
   "outputs": [],
   "source": [
    "with gzip.GzipFile(DATAPATH, 'rb') as infile:\n",
    "    data = cPickle.load(infile)"
   ]
  },
  {
   "cell_type": "code",
   "execution_count": 13,
   "metadata": {},
   "outputs": [],
   "source": [
    "training_data = [instance for instance in data if instance[0] in train_classes]\n",
    "zero_shot_data = [instance for instance in data if instance[0] not in train_classes]\n",
    "np.random.shuffle(training_data)"
   ]
  },
  {
   "cell_type": "code",
   "execution_count": 14,
   "metadata": {},
   "outputs": [],
   "source": [
    "train_size = 300 # per class\n",
    "train_data, valid_data = [], []\n",
    "for class_label in train_classes:\n",
    "    ctr = 0\n",
    "    for instance in training_data:\n",
    "        if instance[0] == class_label:\n",
    "            if ctr < train_size:\n",
    "                train_data.append(instance)\n",
    "                ctr+=1\n",
    "            else:\n",
    "                valid_data.append(instance)"
   ]
  },
  {
   "cell_type": "code",
   "execution_count": 15,
   "metadata": {},
   "outputs": [],
   "source": [
    "np.random.shuffle(train_data)\n",
    "np.random.shuffle(valid_data)\n",
    "vectors = {i:j for i,j in np.load(WORD2VECPATH, allow_pickle=True)}"
   ]
  },
  {
   "cell_type": "code",
   "execution_count": 20,
   "metadata": {},
   "outputs": [],
   "source": [
    "train_data=[(feat,vectors[clss]) for clss,feat in train_data]\n",
    "valid_data=[(feat,vectors[clss]) for clss,feat in valid_data]"
   ]
  },
  {
   "cell_type": "code",
   "execution_count": 21,
   "metadata": {},
   "outputs": [],
   "source": [
    "train_clss = [clss for clss, feat in train_data]\n",
    "valid_clss = [clss for clss, feat in valid_data]\n",
    "zero_shot_clss = [clss for clss, feat in zero_shot_data]\n"
   ]
  },
  {
   "cell_type": "code",
   "execution_count": 22,
   "metadata": {},
   "outputs": [],
   "source": [
    "x_train, y_train = zip(*train_data)\n",
    "x_train, y_train = np.squeeze(np.asarray(x_train)),np.squeeze(np.asarray(y_train))\n",
    "x_train = normalize(x_train, norm='l2')\n",
    "x_valid, y_valid = zip(*valid_data)\n",
    "x_valid, y_valid = np.squeeze(np.asarray(x_valid)),np.squeeze(np.asarray(y_valid))\n",
    "x_valid = normalize(x_valid, norm='l2')\n",
    "y_zsl, x_zsl = zip(*zero_shot_data)\n",
    "x_zsl, y_zsl = np.squeeze(np.asarray(x_zsl)),np.squeeze(np.asarray(y_zsl))\n",
    "x_zsl = normalize(x_zsl, norm='l2')"
   ]
  },
  {
   "cell_type": "code",
   "execution_count": 23,
   "metadata": {},
   "outputs": [],
   "source": [
    "from torch.utils.data import TensorDataset\n",
    "trn_ds = TensorDataset(*[torch.Tensor(t).to(device) for t in [x_train, y_train]])\n",
    "val_ds = TensorDataset(*[torch.Tensor(t).to(device) for t in [x_valid, y_valid]])\n",
    "trn_dl = DataLoader(trn_ds, batch_size=32, shuffle=True)\n",
    "val_dl = DataLoader(val_ds, batch_size=32, shuffle=False)"
   ]
  },
  {
   "cell_type": "code",
   "execution_count": null,
   "metadata": {},
   "outputs": [],
   "source": [
    "def build_model():\n",
    "    return nn.Sequential(\n",
    "        nn.Linear(4096, 1024), nn.ReLU(inplace=True),\n",
    "        nn.BatchNorm1d(1024), nn.Dropout(0.8),\n",
    "        nn.Linear(1024, 512), nn.ReLU(inplace=True),\n",
    "        nn.BatchNorm1d(512), nn.Dropout(0.8),\n",
    "        nn.Linear(512, 256), nn.ReLU(inplace=True),\n",
    "        nn.BatchNorm1d(256), nn.Dropout(0.8),\n",
    "        nn.Linear(256, 300)\n",
    ")"
   ]
  }
 ],
 "metadata": {
  "kernelspec": {
   "display_name": "Python 3.8.10 64-bit",
   "language": "python",
   "name": "python3"
  },
  "language_info": {
   "codemirror_mode": {
    "name": "ipython",
    "version": 3
   },
   "file_extension": ".py",
   "mimetype": "text/x-python",
   "name": "python",
   "nbconvert_exporter": "python",
   "pygments_lexer": "ipython3",
   "version": "3.8.10"
  },
  "orig_nbformat": 4,
  "vscode": {
   "interpreter": {
    "hash": "916dbcbb3f70747c44a77c7bcd40155683ae19c65e1c03b4aa3499c5328201f1"
   }
  }
 },
 "nbformat": 4,
 "nbformat_minor": 2
}
